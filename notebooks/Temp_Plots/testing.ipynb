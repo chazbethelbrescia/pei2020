{
 "cells": [
  {
   "cell_type": "code",
   "execution_count": 1,
   "metadata": {},
   "outputs": [],
   "source": [
    "import xarray as xr\n",
    "import numpy as np\n",
    "from matplotlib import pyplot as plt\n",
    "from matplotlib import gridspec\n",
    "from cartopy import crs as ccrs\n",
    "import cartopy.feature as cfeature\n",
    "from cartopy.util import add_cyclic_point"
   ]
  },
  {
   "cell_type": "code",
   "execution_count": 2,
   "metadata": {},
   "outputs": [],
   "source": [
    "%reload_ext autoreload\n",
    "%autoreload 2\n",
    "from chazbpei2020.preprocessing import *"
   ]
  },
  {
   "cell_type": "code",
   "execution_count": 7,
   "metadata": {},
   "outputs": [
    {
     "name": "stdout",
     "output_type": "stream",
     "text": [
      "<xarray.Dataset>\n",
      "Dimensions:        (bnds: 2, st_ocean: 1, time: 1812, xt_ocean: 360, yt_ocean: 180)\n",
      "Coordinates:\n",
      "  * time           (time) object 1950-01-16 12:00:00 ... 2100-12-30 12:00:00\n",
      "  * st_ocean       (st_ocean) float64 5.0\n",
      "  * yt_ocean       (yt_ocean) float64 -89.5 -88.5 -87.5 -86.5 ... 87.5 88.5 89.5\n",
      "  * xt_ocean       (xt_ocean) float64 0.5 1.5 2.5 3.5 ... 357.5 358.5 359.5\n",
      "Dimensions without coordinates: bnds\n",
      "Data variables:\n",
      "    yt_ocean_bnds  (yt_ocean, bnds) float64 ...\n",
      "    xt_ocean_bnds  (xt_ocean, bnds) float64 ...\n",
      "    temp           (time, st_ocean, yt_ocean, xt_ocean) float32 ...\n",
      "Attributes:\n",
      "    filename:                  19500101.ocean_month.nc\n",
      "    title:                     ESM2M-C1_all_historical_HC2_HighFreqDiag_ens101\n",
      "    grid_type:                 mosaic\n",
      "    grid_tile:                 1\n",
      "    history:                   Fri Jun 12 14:14:33 2020: nces ./sst_ens101_1x...\n",
      "    NCO:                       4.6.8\n",
      "    nco_openmp_thread_number:  1\n",
      "    code_version:              $Name: bronx-10_performance_z1l $\n"
     ]
    }
   ],
   "source": [
    "# irr0.1 ensemble average (preprocessed)\n",
    "directory = '~/chazbpei2020/data/processed/Temp'\n",
    "filename = 'sst_ensAvg_1950_2100.nc'\n",
    "irrAvg_path = directory+'/'+filename\n",
    "ds_irrAvg = xr.open_dataset(irrAvg_path)\n",
    "print(ds_irrAvg)"
   ]
  },
  {
   "cell_type": "code",
   "execution_count": 101,
   "metadata": {},
   "outputs": [],
   "source": [
    "# irr0.1 ensemble average (preprocessed)\n",
    "directory = '~/chazbpei2020/data/processed/Omega_Arag'\n",
    "filename = 'temp_irr_0.1_ensAvg_1950_2100.nc'\n",
    "irrAvg_path = directory+'/'+filename\n",
    "ds_irrAvg = xr.open_dataset(irrAvg_path)\n",
    "\n",
    "# Get Datasets for annual mean and min\n",
    "ds_irrAvgMean = ds_irrAvg.groupby('TIME.year').mean(dim='TIME')\n",
    "ds_irrAvgMin = ds_irrAvg.groupby('TIME.year').min(dim='TIME')"
   ]
  }
 ],
 "metadata": {
  "kernelspec": {
   "display_name": "Python 3",
   "language": "python",
   "name": "python3"
  },
  "language_info": {
   "codemirror_mode": {
    "name": "ipython",
    "version": 3
   },
   "file_extension": ".py",
   "mimetype": "text/x-python",
   "name": "python",
   "nbconvert_exporter": "python",
   "pygments_lexer": "ipython3",
   "version": "3.8.2"
  }
 },
 "nbformat": 4,
 "nbformat_minor": 4
}
