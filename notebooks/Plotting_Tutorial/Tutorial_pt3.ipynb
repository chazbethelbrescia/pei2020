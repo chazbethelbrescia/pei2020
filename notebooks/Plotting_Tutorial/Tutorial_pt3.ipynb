{
 "cells": [
  {
   "cell_type": "markdown",
   "metadata": {},
   "source": [
    "# Plotting and Programming in Python (Continued)"
   ]
  },
  {
   "cell_type": "markdown",
   "metadata": {},
   "source": [
    "## Lists"
   ]
  },
  {
   "cell_type": "code",
   "execution_count": 3,
   "metadata": {},
   "outputs": [
    {
     "name": "stdout",
     "output_type": "stream",
     "text": [
      "pressures: [0.273, 0.275, 0.277, 0.275, 0.276]\n",
      "length: 5\n",
      "fourth item of pressures: 0.276\n"
     ]
    }
   ],
   "source": [
    "# Example\n",
    "pressures = [0.273, 0.275, 0.277, 0.275, 0.276]\n",
    "print('pressures:', pressures)\n",
    "print('length:', len(pressures))\n",
    "print('fourth item of pressures:', pressures[4])"
   ]
  },
  {
   "cell_type": "code",
   "execution_count": 5,
   "metadata": {},
   "outputs": [
    {
     "name": "stdout",
     "output_type": "stream",
     "text": [
      "primes is initially: [2, 3, 5]\n",
      "primes has become: [2, 3, 5, 7, 9]\n"
     ]
    }
   ],
   "source": [
    "# Append items to a list\n",
    "primes = [2, 3, 5]\n",
    "print('primes is initially:', primes)\n",
    "primes.append(7)\n",
    "primes.append(9)\n",
    "print('primes has become:', primes)"
   ]
  },
  {
   "cell_type": "code",
   "execution_count": 7,
   "metadata": {},
   "outputs": [
    {
     "name": "stdout",
     "output_type": "stream",
     "text": [
      "primes is currently: [2, 3, 5, 7, 9, 11, 13, 17, 19, [37, 41, 43, 47]]\n",
      "primes has now become: [2, 3, 5, 7, 9, 11, 13, 17, 19, [37, 41, 43, 47], 11, 13, 17, 19]\n",
      "primes has finally become: [2, 3, 5, 7, 9, 11, 13, 17, 19, [37, 41, 43, 47], 11, 13, 17, 19, [37, 41, 43, 47]]\n"
     ]
    }
   ],
   "source": [
    "# Combine lists\n",
    "teen_primes = [11, 13, 17, 19]\n",
    "middle_aged_primes = [37, 41, 43, 47]\n",
    "print('primes is currently:', primes)\n",
    "primes.extend(teen_primes)\n",
    "print('primes has now become:', primes)\n",
    "primes.append(middle_aged_primes)\n",
    "print('primes has finally become:', primes)"
   ]
  },
  {
   "cell_type": "code",
   "execution_count": 8,
   "metadata": {},
   "outputs": [
    {
     "name": "stdout",
     "output_type": "stream",
     "text": [
      "primes before removing last item: [2, 3, 5, 7, 9]\n",
      "primes after removing last item: [2, 3, 5, 7]\n"
     ]
    }
   ],
   "source": [
    "# Delete items form list using indexing\n",
    "primes = [2, 3, 5, 7, 9]\n",
    "print('primes before removing last item:', primes)\n",
    "del primes[4]\n",
    "print('primes after removing last item:', primes)"
   ]
  },
  {
   "cell_type": "code",
   "execution_count": 10,
   "metadata": {},
   "outputs": [
    {
     "ename": "TypeError",
     "evalue": "'str' object does not support item assignment",
     "output_type": "error",
     "traceback": [
      "\u001b[0;31m---------------------------------------------------------------------------\u001b[0m",
      "\u001b[0;31mTypeError\u001b[0m                                 Traceback (most recent call last)",
      "\u001b[0;32m<ipython-input-10-de9e6f4e5e9c>\u001b[0m in \u001b[0;36m<module>\u001b[0;34m\u001b[0m\n\u001b[1;32m      1\u001b[0m \u001b[0;31m# Note: character strings are immutable\u001b[0m\u001b[0;34m\u001b[0m\u001b[0;34m\u001b[0m\u001b[0;34m\u001b[0m\u001b[0m\n\u001b[1;32m      2\u001b[0m \u001b[0melement\u001b[0m \u001b[0;34m=\u001b[0m \u001b[0;34m'carbon'\u001b[0m\u001b[0;34m\u001b[0m\u001b[0;34m\u001b[0m\u001b[0m\n\u001b[0;32m----> 3\u001b[0;31m \u001b[0melement\u001b[0m\u001b[0;34m[\u001b[0m\u001b[0;36m0\u001b[0m\u001b[0;34m]\u001b[0m \u001b[0;34m=\u001b[0m \u001b[0;34m'C'\u001b[0m\u001b[0;34m\u001b[0m\u001b[0;34m\u001b[0m\u001b[0m\n\u001b[0m",
      "\u001b[0;31mTypeError\u001b[0m: 'str' object does not support item assignment"
     ]
    }
   ],
   "source": [
    "# Note: character strings are immutable\n",
    "element = 'carbon'\n",
    "element[0] = 'C'"
   ]
  },
  {
   "cell_type": "code",
   "execution_count": 12,
   "metadata": {},
   "outputs": [
    {
     "name": "stdout",
     "output_type": "stream",
     "text": [
      "string to list: ['t', 'i', 'n']\n",
      "list to string: gold\n"
     ]
    }
   ],
   "source": [
    "# From strings to lists and back\n",
    "print('string to list:', list('tin'))\n",
    "print('list to string:', ''.join(['g', 'o', 'l', 'd']))  # join function concatenates"
   ]
  },
  {
   "cell_type": "code",
   "execution_count": 13,
   "metadata": {},
   "outputs": [
    {
     "name": "stdout",
     "output_type": "stream",
     "text": [
      "furn\n",
      "eniroulf\n"
     ]
    }
   ],
   "source": [
    "# Stepping through a list\n",
    "element = 'fluorine'\n",
    "print(element[::2])  # low:high:stride (step)\n",
    "print(element[::-1])  # steps backward by 1"
   ]
  },
  {
   "cell_type": "code",
   "execution_count": 19,
   "metadata": {},
   "outputs": [
    {
     "name": "stdout",
     "output_type": "stream",
     "text": [
      "lithium\n",
      "\n"
     ]
    }
   ],
   "source": [
    "element = 'lithium'\n",
    "print(element[0:20])\n",
    "print(element[-1:3])  # note slice bounds"
   ]
  },
  {
   "cell_type": "code",
   "execution_count": 15,
   "metadata": {},
   "outputs": [
    {
     "name": "stdout",
     "output_type": "stream",
     "text": [
      "letters is ['g', 'o', 'l', 'd'] and result is ['d', 'g', 'l', 'o']\n",
      "letters is ['d', 'g', 'l', 'o'] and result is None\n"
     ]
    }
   ],
   "source": [
    "# Sort and Sorted\n",
    "letters = list('gold')\n",
    "\n",
    "# sorted(letters) returned sorted copy of list\n",
    "result = sorted(letters)\n",
    "print('letters is', letters, 'and result is', result)\n",
    "\n",
    "# letters.sort() sorts letters in place and doesn't return anything\n",
    "result = letters.sort()\n",
    "print('letters is', letters, 'and result is', result)"
   ]
  },
  {
   "cell_type": "markdown",
   "metadata": {},
   "source": [
    "## For Loops"
   ]
  },
  {
   "cell_type": "code",
   "execution_count": 20,
   "metadata": {},
   "outputs": [
    {
     "name": "stdout",
     "output_type": "stream",
     "text": [
      "2 4 8\n",
      "3 9 27\n",
      "5 25 125\n"
     ]
    }
   ],
   "source": [
    "# Simple example\n",
    "primes = [2, 3, 5]\n",
    "for p in primes:\n",
    "    squared = p ** 2\n",
    "    cubed = p ** 3\n",
    "    print(p, squared, cubed)"
   ]
  },
  {
   "cell_type": "code",
   "execution_count": 22,
   "metadata": {},
   "outputs": [
    {
     "name": "stdout",
     "output_type": "stream",
     "text": [
      "55\n"
     ]
    }
   ],
   "source": [
    "# Accumulator pattern\n",
    "# Sum the first 10 integers.\n",
    "total = 0\n",
    "for number in range(10):\n",
    "    total = total + (number + 1)  # add 1 bc numbers range from 0-9\n",
    "print(total)"
   ]
  },
  {
   "cell_type": "code",
   "execution_count": 23,
   "metadata": {},
   "outputs": [
    {
     "name": "stdout",
     "output_type": "stream",
     "text": [
      "nit\n"
     ]
    }
   ],
   "source": [
    "# Reversing a String\n",
    "original = \"tin\"\n",
    "result = \"\"\n",
    "for char in original:\n",
    "    result = char + result\n",
    "print(result)"
   ]
  },
  {
   "cell_type": "code",
   "execution_count": 33,
   "metadata": {},
   "outputs": [
    {
     "name": "stdout",
     "output_type": "stream",
     "text": [
      "RGB\n"
     ]
    }
   ],
   "source": [
    "# Create acronym: [\"red\", \"green\", \"blue\"] => \"RGB\"\n",
    "colors = [\"red\", \"green\", \"blue\"]\n",
    "acronym = \"\"\n",
    "for color in colors:\n",
    "    acronym = acronym + color[0].upper()\n",
    "print(acronym)"
   ]
  },
  {
   "cell_type": "markdown",
   "metadata": {},
   "source": [
    "## Conditionals"
   ]
  },
  {
   "cell_type": "code",
   "execution_count": 34,
   "metadata": {},
   "outputs": [
    {
     "name": "stdout",
     "output_type": "stream",
     "text": [
      "3.54 is large\n",
      "2.07 is small\n",
      "9.22 is large\n",
      "1.86 is small\n",
      "1.71 is small\n"
     ]
    }
   ],
   "source": [
    "# Example\n",
    "masses = [3.54, 2.07, 9.22, 1.86, 1.71]\n",
    "for m in masses:\n",
    "    if m > 3.0:\n",
    "        print(m, 'is large')\n",
    "    else:\n",
    "        print(m, 'is small')"
   ]
  },
  {
   "cell_type": "code",
   "execution_count": 36,
   "metadata": {},
   "outputs": [
    {
     "name": "stdout",
     "output_type": "stream",
     "text": [
      "Normal traffic\n",
      "Normal traffic\n",
      "Fast heavy object.  Duck!\n",
      "Whoa!  Something is up with the data.  Check it\n",
      "Slow light object.  Ignore it\n"
     ]
    }
   ],
   "source": [
    "# Compound Realations using 'and', 'or', and Parentheses\n",
    "mass     = [ 3.54,  2.07,  9.22,  1.86,  1.71]\n",
    "velocity = [10.00, 20.00, 30.00, 25.00, 20.00]\n",
    "\n",
    "i = 0\n",
    "for i in range(5):\n",
    "    if mass[i] > 5 and velocity[i] > 20:\n",
    "        print(\"Fast heavy object.  Duck!\")\n",
    "    elif mass[i] > 2 and mass[i] <= 5 and velocity[i] <= 20:\n",
    "        print(\"Normal traffic\")\n",
    "    elif mass[i] <= 2 and velocity[i] <= 20:\n",
    "        print(\"Slow light object.  Ignore it\")\n",
    "    else:\n",
    "        print(\"Whoa!  Something is up with the data.  Check it\")"
   ]
  },
  {
   "cell_type": "markdown",
   "metadata": {},
   "source": [
    "## Using Functions with Conditionals in Pandas"
   ]
  },
  {
   "cell_type": "code",
   "execution_count": 38,
   "metadata": {},
   "outputs": [
    {
     "data": {
      "text/plain": [
       "2"
      ]
     },
     "execution_count": 38,
     "metadata": {},
     "output_type": "execute_result"
    }
   ],
   "source": [
    "def calculate_life_quartile(exp):\n",
    "    if exp < 58.41:\n",
    "        # This observation is in the first quartile\n",
    "        return 1\n",
    "    elif exp >= 58.41 and exp < 67.05:\n",
    "        # This observation is in the second quartile\n",
    "        return 2\n",
    "    elif exp >= 67.05 and exp < 71.70:\n",
    "        # This observation is in the third quartile\n",
    "        return 3\n",
    "    elif exp >= 71.70:\n",
    "        # This observation is in the fourth quartile\n",
    "        return 4\n",
    "    else:\n",
    "        # This observation has bad data\n",
    "        return None\n",
    "\n",
    "calculate_life_quartile(62.5)"
   ]
  },
  {
   "cell_type": "code",
   "execution_count": 45,
   "metadata": {},
   "outputs": [],
   "source": [
    "import pandas as pd\n",
    "# Apply a function to a DataFrame or portion of a DataFrame\n",
    "# data = pd.read_csv('./gapminder_all.csv')\n",
    "# data['life_qrtl'] = data['lifeExp'].apply(calculate_life_quartile)"
   ]
  },
  {
   "cell_type": "markdown",
   "metadata": {},
   "source": [
    "## Looping Over Data Sets"
   ]
  },
  {
   "cell_type": "code",
   "execution_count": 50,
   "metadata": {},
   "outputs": [
    {
     "name": "stdout",
     "output_type": "stream",
     "text": [
      "./gapminder_gdp_africa.csv gdpPercap_1952    298.846212\n",
      "gdpPercap_1957    335.997115\n",
      "gdpPercap_1962    355.203227\n",
      "gdpPercap_1967    412.977514\n",
      "gdpPercap_1972    464.099504\n",
      "gdpPercap_1977    502.319733\n",
      "gdpPercap_1982    462.211415\n",
      "gdpPercap_1987    389.876185\n",
      "gdpPercap_1992    410.896824\n",
      "gdpPercap_1997    312.188423\n",
      "gdpPercap_2002    241.165877\n",
      "gdpPercap_2007    277.551859\n",
      "dtype: float64\n",
      "./gapminder_gdp_asia.csv gdpPercap_1952    331.0\n",
      "gdpPercap_1957    350.0\n",
      "gdpPercap_1962    388.0\n",
      "gdpPercap_1967    349.0\n",
      "gdpPercap_1972    357.0\n",
      "gdpPercap_1977    371.0\n",
      "gdpPercap_1982    424.0\n",
      "gdpPercap_1987    385.0\n",
      "gdpPercap_1992    347.0\n",
      "gdpPercap_1997    415.0\n",
      "gdpPercap_2002    611.0\n",
      "gdpPercap_2007    944.0\n",
      "dtype: float64\n"
     ]
    }
   ],
   "source": [
    "# Example:\n",
    "import pandas as pd\n",
    "for filename in ['./gapminder_gdp_africa.csv', './gapminder_gdp_asia.csv']:\n",
    "    data = pd.read_csv(filename, index_col='country')\n",
    "    print(filename, data.min())"
   ]
  },
  {
   "cell_type": "code",
   "execution_count": 51,
   "metadata": {},
   "outputs": [
    {
     "name": "stdout",
     "output_type": "stream",
     "text": [
      "all csv files in current directory: ['./gapminder_gdp_oceania.csv', './gapminder_gdp_africa.csv', './gapminder_gdp_americas.csv', './gapminder_gdp_europe.csv', './gapminder_gdp_asia.csv', './gapminder_all.csv']\n"
     ]
    }
   ],
   "source": [
    "# Use glob.glob to find sets of filenames that match a pattern\n",
    "import glob\n",
    "print('all csv files in current directory:', glob.glob('./*.csv'))"
   ]
  },
  {
   "cell_type": "code",
   "execution_count": 52,
   "metadata": {},
   "outputs": [
    {
     "name": "stdout",
     "output_type": "stream",
     "text": [
      "all PDB files: []\n"
     ]
    }
   ],
   "source": [
    "print('all PDB files:', glob.glob('*.pdb'))"
   ]
  },
  {
   "cell_type": "code",
   "execution_count": 58,
   "metadata": {},
   "outputs": [
    {
     "name": "stdout",
     "output_type": "stream",
     "text": [
      "./gapminder_gdp_oceania.csv \n",
      "Min 1925 GDP: 10039.595640000001\n",
      "./gapminder_gdp_africa.csv \n",
      "Min 1925 GDP: 298.8462121\n",
      "./gapminder_gdp_americas.csv \n",
      "Min 1925 GDP: 1397.7171369999999\n",
      "./gapminder_gdp_europe.csv \n",
      "Min 1925 GDP: 973.5331947999999\n",
      "./gapminder_gdp_asia.csv \n",
      "Min 1925 GDP: 331.0\n",
      "./gapminder_all.csv \n",
      "Min 1925 GDP: 298.8462121\n"
     ]
    }
   ],
   "source": [
    "# Using both glob and for to process batches of file\n",
    "for filename in glob.glob('./gapminder_*.csv'):\n",
    "    data = pd.read_csv(filename)\n",
    "    print(filename, '\\nMin 1925 GDP: ' + str(data['gdpPercap_1952'].min()))  \n",
    "    # print file name and the min GDP in 1952"
   ]
  },
  {
   "cell_type": "code",
   "execution_count": 61,
   "metadata": {},
   "outputs": [
    {
     "name": "stdout",
     "output_type": "stream",
     "text": [
      "smallest file has 2 records\n"
     ]
    }
   ],
   "source": [
    "# Minimum File Size\n",
    "import glob\n",
    "import pandas as pd\n",
    "fewest = float('inf');\n",
    "for filename in glob.glob('./*.csv'):\n",
    "    dataframe = pd.read_csv(filename)\n",
    "    fewest = min(fewest, dataframe.shape[0])\n",
    "print('smallest file has', fewest, 'records')"
   ]
  },
  {
   "cell_type": "code",
   "execution_count": null,
   "metadata": {},
   "outputs": [],
   "source": []
  }
 ],
 "metadata": {
  "kernelspec": {
   "display_name": "Python 3",
   "language": "python",
   "name": "python3"
  },
  "language_info": {
   "codemirror_mode": {
    "name": "ipython",
    "version": 3
   },
   "file_extension": ".py",
   "mimetype": "text/x-python",
   "name": "python",
   "nbconvert_exporter": "python",
   "pygments_lexer": "ipython3",
   "version": "3.8.2"
  }
 },
 "nbformat": 4,
 "nbformat_minor": 4
}
